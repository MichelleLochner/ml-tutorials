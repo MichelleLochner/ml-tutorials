{
 "cells": [
  {
   "cell_type": "markdown",
   "metadata": {},
   "source": [
    "# SDSS Galaxies Machine Learning Tutorial"
   ]
  },
  {
   "cell_type": "markdown",
   "metadata": {},
   "source": [
    "This is less of a tutorial and more of a playground for you to explore machine learning. I've extracted a random set of a few thousand spectra of galaxies from SDSS DR12. I've also extracted the redshift, as determined by template and line-fitting algorithms. The idea is for you to use machine learning regression to be able to predict the redshift from the spectrum.<br>\n",
    "\n",
    "A little more about spectra and redshift: A spectrum is taken when light is split up as a function of wavelength (like a rainbow). The spectra of galaxies consist of many absorption and emission lines due to the different elements and molecules in the galaxy itself. These lines contain a wealth of information. One thing they can tell you is the redshift of the galaxy which is a result of the expansion of the Universe. Galaxies farther away have higher redshifts. The redshift of the galaxy can be determined by taking a known emission line of a particular element or molecule, which is emitted at a particular wavelength, and comparing it to the measured emission line in the galaxy spectrum.<br>\n",
    "\n",
    "Read more about cosmological redshift here: http://astronomy.swin.edu.au/cosmos/C/cosmological+redshift <br>\n",
    "\n",
    "And have a look at the description of SDSS spectra here: http://www.sdss.org/dr12/spectro/"
   ]
  },
  {
   "cell_type": "code",
   "execution_count": 4,
   "metadata": {
    "tags": []
   },
   "outputs": [],
   "source": [
    "import numpy as np\n",
    "import matplotlib\n",
    "\n",
    "import matplotlib.pyplot as plt\n",
    "import glob, os\n",
    "from scipy.interpolate import interp1d\n",
    "\n",
    "from sklearn.ensemble import RandomForestRegressor\n",
    "from sklearn.model_selection import train_test_split, GridSearchCV\n",
    "from sklearn.decomposition import PCA\n",
    "from sklearn.metrics import mean_squared_error\n",
    "\n",
    "%matplotlib widget"
   ]
  },
  {
   "cell_type": "markdown",
   "metadata": {},
   "source": [
    "### Load the data\n",
    "I've (kindly) extracted the SDSS spectra from the original fits file, interpolated them onto the same wavelength range and put the results into a numpy array (`F`). Each row is a new galaxy, each column in the row is the flux at a given wavelength. The wavelength range is given in `wavs`, which you won't need for the machine learning (since it's the same for each object) but you can use if you want to interpret the spectra physically. Lastly, there's an array of metadata, `met`, each row of which corresponds to the same row in `F`. The columns are [`redshift`, `plate`, `mjd`, `fiberID`]. The plate, mjd and fiberID uniquely identify this spectrum if you'd like to go back to the SDSS database to get more metadata to play with."
   ]
  },
  {
   "cell_type": "code",
   "execution_count": 6,
   "metadata": {
    "tags": []
   },
   "outputs": [],
   "source": [
    "F = np.load(os.path.join('data','spectra.npy'))\n",
    "met = np.load(os.path.join('data','metadata.npy'))\n",
    "wavs = np.linspace(4000, 8000, 4000)\n",
    "\n",
    "F= F[:len(F)//2,::4]"
   ]
  },
  {
   "cell_type": "code",
   "execution_count": 7,
   "metadata": {
    "collapsed": false,
    "jupyter": {
     "outputs_hidden": false
    }
   },
   "outputs": [
    {
     "data": {
      "text/plain": [
       "array([[6.268128e-01, 3.694000e+03, 5.520900e+04, 3.990000e+02],\n",
       "       [4.989141e-01, 4.609000e+03, 5.625100e+04, 3.910000e+02],\n",
       "       [5.131580e-01, 4.040000e+03, 5.560500e+04, 8.490000e+02],\n",
       "       ...,\n",
       "       [4.789599e-01, 5.891000e+03, 5.603400e+04, 1.490000e+02],\n",
       "       [4.766977e-01, 4.045000e+03, 5.562200e+04, 2.900000e+01],\n",
       "       [5.352108e-01, 4.996000e+03, 5.572000e+04, 6.570000e+02]])"
      ]
     },
     "execution_count": 7,
     "metadata": {},
     "output_type": "execute_result"
    }
   ],
   "source": [
    "met"
   ]
  },
  {
   "cell_type": "markdown",
   "metadata": {},
   "source": [
    "From here you're on your own! Plot the data, come up with your own set of features and try out a regression algorithm!"
   ]
  }
 ],
 "metadata": {
  "anaconda-cloud": {},
  "kernelspec": {
   "display_name": "Python 3 (ipykernel)",
   "language": "python",
   "name": "python3"
  },
  "language_info": {
   "codemirror_mode": {
    "name": "ipython",
    "version": 3
   },
   "file_extension": ".py",
   "mimetype": "text/x-python",
   "name": "python",
   "nbconvert_exporter": "python",
   "pygments_lexer": "ipython3",
   "version": "3.10.6"
  }
 },
 "nbformat": 4,
 "nbformat_minor": 4
}
